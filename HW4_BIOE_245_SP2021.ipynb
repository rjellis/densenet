{
  "nbformat": 4,
  "nbformat_minor": 0,
  "metadata": {
    "accelerator": "GPU",
    "colab": {
      "name": "HW4_BIOE_245_SP2021.ipynb",
      "provenance": [],
      "collapsed_sections": [],
      "include_colab_link": true
    },
    "kernelspec": {
      "display_name": "Python 3",
      "language": "python",
      "name": "python3"
    },
    "language_info": {
      "codemirror_mode": {
        "name": "ipython",
        "version": 3
      },
      "file_extension": ".py",
      "mimetype": "text/x-python",
      "name": "python",
      "nbconvert_exporter": "python",
      "pygments_lexer": "ipython3",
      "version": "3.8.5"
    }
  },
  "cells": [
    {
      "cell_type": "markdown",
      "metadata": {
        "id": "view-in-github",
        "colab_type": "text"
      },
      "source": [
        "<a href=\"https://colab.research.google.com/github/rjellis/densenet/blob/master/HW4_BIOE_245_SP2021.ipynb\" target=\"_parent\"><img src=\"https://colab.research.google.com/assets/colab-badge.svg\" alt=\"Open In Colab\"/></a>"
      ]
    },
    {
      "cell_type": "markdown",
      "metadata": {
        "id": "vfzkBhSz2x11"
      },
      "source": [
        "# BIOE 245 – Machine Learning in Medical Imaging \n",
        "####Homework 4\n",
        "\n",
        "In this assignment you will build a complete deep learning pipeline. `testset.zip` (1.87GB) and `trainvalset.zip` (5.47GB) contain image data while `test_lab.csv` and `trainval_lab.csv` contain labels and demographic data. These are in a Box folder and will be downloaded directly into the Google Colab system in the scripts below. **The local google Colab filesystem gets deleted every 12ish hours, so you may need to rerun the scripts to redownload the data from Box if you leave the assignment and come back to it later.**\n",
        "\n",
        "The goal of this assignment is to create a deep-learning model that will diagnose the presence and severity of radiographic osteoarthritis (KL) from cropped knee xray images. The dataset contains xrays of **one or both knees from 752 patients (565 patients in train/val, 187 patients in test) over several timepoints**. Each knee xray is evaluated by a radiologist and assigned a KL grade (from 0 to 4) which describes disease severity. The dataset we're working with is approximately 1/6th of the patients in the Osteoarthritis Initiative Dataset [ https://oai.epi-ucsf.org/datarelease/ ]. Distribution of KL grades is similar in trainval and testing sets.\n",
        "\n",
        "KL | 0 | 1 | 2 | 3 | 4\n",
        "--- | ---| ---| ---| ---| ---\n",
        " | no OA | doubtful OA | mild OA | moderate OA | severe OA\n",
        "\n",
        "The easiest way to approach a new deep learning projects is doing it in parts:\n",
        "1. Data download and characterization\n",
        "2. Framing the learning problem\n",
        "3. Network setup and training\n",
        "4. Evaluation of results\n",
        "\n",
        "(!!) Remember to activate GPUs by going to Runtime > Change Runtime Type and select GPU under Hardware Accelerator. Save checkpoints and download them frequently, as Colab runtime is not unlimited and training can time out.\n",
        "\n",
        "---\n",
        "\n",
        "<bt> Due date: Tuesday, June 1st, 11:59pm submission via Box upload. We will ask you to submit a pdf of your completed Google Colab notebook with printed outputs and a .h5 of your best performing model.\n"
      ]
    },
    {
      "cell_type": "code",
      "metadata": {
        "id": "tgVTcTgVmrgC",
        "colab": {
          "base_uri": "https://localhost:8080/"
        },
        "outputId": "712a7d3f-37c9-4d4b-fd6f-c7e15489e930"
      },
      "source": [
        "# ONLY NEED TO RUN THIS ONCE, AT THE BEGINNING OF EACH RUNTIME\n",
        "# MOVEMENT OF FILES BETWEEN BOX –> COLAB SHOULD TAKE AT MOST 10 MINUTES\n",
        "\n",
        "!curl -L https://ucsf.box.com/shared/static/o6rvx2fihrdz1ptqd50tgqy008nqz7r2 -o 'trainval_lab.csv'\n",
        "!curl -L https://ucsf.box.com/shared/static/iiqos0z8iqee96mqq6vhak4ldzv57rw0 -o 'test_lab.csv'\n",
        "\n",
        "!curl -L https://ucsf.box.com/shared/static/uqsc0e733fu8lrjhicnrkmyjftyw3hml -o 'testset.zip'\n",
        "!curl -L https://ucsf.box.com/shared/static/edsxwcg6x0iwr6kyo15q08y2jz8t2u0y -o 'trainvalset.zip'\n",
        "\n",
        "# make directories and unzip both trainval_set.zip and test_set.zip\n",
        "!mkdir trainval\n",
        "!mkdir test\n",
        "\n",
        "!unzip -qq trainvalset.zip -d 'trainval' \n",
        "!unzip -qq testset.zip -d 'test'"
      ],
      "execution_count": null,
      "outputs": [
        {
          "output_type": "stream",
          "text": [
            "  % Total    % Received % Xferd  Average Speed   Time    Time     Time  Current\n",
            "                                 Dload  Upload   Total   Spent    Left  Speed\n",
            "  0     0    0     0    0     0      0      0 --:--:-- --:--:-- --:--:--     0\n",
            "  0     0    0     0    0     0      0      0 --:--:-- --:--:-- --:--:--     0\n",
            "100     6    0     6    0     0      4      0 --:--:--  0:00:01 --:--:--     4\n",
            "100  423k  100  423k    0     0   194k      0  0:00:02  0:00:02 --:--:--  594k\n",
            "  % Total    % Received % Xferd  Average Speed   Time    Time     Time  Current\n",
            "                                 Dload  Upload   Total   Spent    Left  Speed\n",
            "  0     0    0     0    0     0      0      0 --:--:-- --:--:-- --:--:--     0\n",
            "^C\n",
            "  % Total    % Received % Xferd  Average Speed   Time    Time     Time  Current\n",
            "                                 Dload  Upload   Total   Spent    Left  Speed\n",
            "  0     0    0     0    0     0      0      0 --:--:-- --:--:-- --:--:--     0\n",
            "  0     0    0     0    0     0      0      0 --:--:-- --:--:-- --:--:--     0\n",
            "100    10    0    10    0     0      8      0 --:--:--  0:00:01 --:--:--    17\n",
            "^C\n",
            "  % Total    % Received % Xferd  Average Speed   Time    Time     Time  Current\n",
            "                                 Dload  Upload   Total   Spent    Left  Speed\n",
            "  0     0    0     0    0     0      0      0 --:--:-- --:--:-- --:--:--     0\n",
            "  0     0    0     0    0     0      0      0 --:--:-- --:--:-- --:--:--     0\n",
            "100    10    0    10    0     0      6      0 --:--:--  0:00:01 --:--:--     0\n",
            "100 5219M  100 5219M    0     0  22.6M      0  0:03:50  0:03:50 --:--:-- 24.0M\n",
            "mkdir: cannot create directory ‘trainval’: File exists\n",
            "mkdir: cannot create directory ‘test’: File exists\n",
            "replace trainval/9000296_00_left_cropped.raw? [y]es, [n]o, [A]ll, [N]one, [r]ename: replace test/9047539_00_left_cropped.raw? [y]es, [n]o, [A]ll, [N]one, [r]ename: "
          ],
          "name": "stdout"
        }
      ]
    },
    {
      "cell_type": "code",
      "metadata": {
        "id": "71489lWp3taj"
      },
      "source": [
        "# import the basic packages used throughout this assignment, \n",
        "# you are encouraged to import or pip install any other packages you might find useful\n",
        "# (you can do this in a code cell by running !pip install my_package)\n",
        "\n",
        "# NUMPY and visualization things\n",
        "import numpy as np\n",
        "np.random.seed(0)\n",
        "import pandas as pd\n",
        "import matplotlib.pyplot as plt\n",
        "import os\n",
        "\n",
        "# TENSORFLOW things\n",
        "%tensorflow_version 2.x\n",
        "import tensorflow.compat.v2 as tf\n",
        "#import tensorflow_datasets as tfds\n",
        "import datetime\n",
        "from tensorflow.keras.callbacks import TensorBoard, EarlyStopping, ModelCheckpoint\n",
        "from tensorflow.keras.utils import plot_model\n",
        "from tensorflow.keras import layers\n",
        "\n",
        "tf.keras.backend.clear_session() \n",
        "\n",
        "# handy function used later to read in .raw images from dataset\n",
        "def load_im(im_path):\n",
        "    raw_array = np.fromfile(im_path, dtype='float32')\n",
        "    im = raw_array.reshape((500,500), order='C')\n",
        "    im /= im.max()\n",
        "    return im"
      ],
      "execution_count": 12,
      "outputs": []
    },
    {
      "cell_type": "markdown",
      "metadata": {
        "id": "wn5zfz9r3sur"
      },
      "source": [
        "### 1. Data download and characterization\n",
        "Understand your dataset and labels, perform data cleaning if necessary. Your loaded in .csv files contain several variables.\n",
        "\n",
        " raw_file | ID | months | side | race | gender | age | BMI | **KL**\n",
        " --- | --- | --- | --- | --- | --- | --- | --- | ---\n",
        "xray | anon patient ID | xray timepoint (TP) |left/right knee| race| male/female| `age @ TP | BMI @ TP | KL grade @ TP\n",
        "\n",
        "<br>**Images**\n",
        ">How many images are we working with in total? Are they 2D/3D? Multi-channel/single channel?\n",
        "<br> Can you load in and plot a few images from the dataset?\n",
        "<br> What does the intensity histogram of a few images look like? What range of values do these images contain? \n",
        "<br> What are \"normal\" variations in images? Are some flipped, rotated, inverted? Keep this in mind if you plan to implement augmentations in training.\n",
        "\n",
        "<br> **Labels and demographics**\n",
        ">What does the distribution of labels (KL) in the trainval dataset look like? How many observations are there per class?\n",
        "<br> Does every image entry have a corresponding KL label?\n",
        "<br> What are the demographics of this dataset? What is the mean age, BMI? What is the proportion of each race and gender?\n",
        "<br> Is there an association between the demographic information and the KL label? \n",
        "\n",
        "(!!) These are notes and guiding questions (you do not need to provide answers)\n",
        "\n"
      ]
    },
    {
      "cell_type": "code",
      "metadata": {
        "id": "YBFIqAInUaDc"
      },
      "source": [
        "# labels loaded into a pandas dataframe\n",
        "# see https://www.datacourses.com/tips-for-performing-eda-with-python-671/ for \n",
        "# information on exploratory data analysis using Pandas\n",
        "\n",
        "trainval_df = pd.read_csv('trainval_lab.csv')\n",
        "trainval_df = trainval_df[trainval_df['KL'].notna()]\n",
        "\n",
        "test_df = pd.read_csv('test_lab.csv')\n",
        "test_df = test_df[test_df['KL'].notna()]"
      ],
      "execution_count": 2,
      "outputs": []
    },
    {
      "cell_type": "code",
      "metadata": {
        "id": "oraPx8jw_f7z",
        "colab": {
          "base_uri": "https://localhost:8080/",
          "height": 514
        },
        "outputId": "69f0fb26-fee2-4538-fc5f-12c8f04faf5c"
      },
      "source": [
        "#see a sample of the data\n",
        "test_df.sample(15)"
      ],
      "execution_count": 13,
      "outputs": [
        {
          "output_type": "execute_result",
          "data": {
            "text/html": [
              "<div>\n",
              "<style scoped>\n",
              "    .dataframe tbody tr th:only-of-type {\n",
              "        vertical-align: middle;\n",
              "    }\n",
              "\n",
              "    .dataframe tbody tr th {\n",
              "        vertical-align: top;\n",
              "    }\n",
              "\n",
              "    .dataframe thead th {\n",
              "        text-align: right;\n",
              "    }\n",
              "</style>\n",
              "<table border=\"1\" class=\"dataframe\">\n",
              "  <thead>\n",
              "    <tr style=\"text-align: right;\">\n",
              "      <th></th>\n",
              "      <th>raw_file</th>\n",
              "      <th>ID</th>\n",
              "      <th>months</th>\n",
              "      <th>side</th>\n",
              "      <th>race</th>\n",
              "      <th>gender</th>\n",
              "      <th>age</th>\n",
              "      <th>BMI</th>\n",
              "      <th>KL</th>\n",
              "    </tr>\n",
              "  </thead>\n",
              "  <tbody>\n",
              "    <tr>\n",
              "      <th>405</th>\n",
              "      <td>9368286_01_left_cropped.raw</td>\n",
              "      <td>9368286</td>\n",
              "      <td>12</td>\n",
              "      <td>left</td>\n",
              "      <td>1.0</td>\n",
              "      <td>1.0</td>\n",
              "      <td>75.0</td>\n",
              "      <td>28.1</td>\n",
              "      <td>0.0</td>\n",
              "    </tr>\n",
              "    <tr>\n",
              "      <th>1193</th>\n",
              "      <td>9438237_05_left_cropped.raw</td>\n",
              "      <td>9438237</td>\n",
              "      <td>36</td>\n",
              "      <td>left</td>\n",
              "      <td>1.0</td>\n",
              "      <td>1.0</td>\n",
              "      <td>74.0</td>\n",
              "      <td>28.5</td>\n",
              "      <td>3.0</td>\n",
              "    </tr>\n",
              "    <tr>\n",
              "      <th>674</th>\n",
              "      <td>9218935_01_right_cropped.raw</td>\n",
              "      <td>9218935</td>\n",
              "      <td>12</td>\n",
              "      <td>right</td>\n",
              "      <td>1.0</td>\n",
              "      <td>1.0</td>\n",
              "      <td>67.0</td>\n",
              "      <td>22.9</td>\n",
              "      <td>4.0</td>\n",
              "    </tr>\n",
              "    <tr>\n",
              "      <th>1366</th>\n",
              "      <td>9608737_05_right_cropped.raw</td>\n",
              "      <td>9608737</td>\n",
              "      <td>36</td>\n",
              "      <td>right</td>\n",
              "      <td>1.0</td>\n",
              "      <td>2.0</td>\n",
              "      <td>57.0</td>\n",
              "      <td>20.9</td>\n",
              "      <td>0.0</td>\n",
              "    </tr>\n",
              "    <tr>\n",
              "      <th>810</th>\n",
              "      <td>9794140_03_left_cropped.raw</td>\n",
              "      <td>9794140</td>\n",
              "      <td>24</td>\n",
              "      <td>left</td>\n",
              "      <td>1.0</td>\n",
              "      <td>2.0</td>\n",
              "      <td>48.0</td>\n",
              "      <td>23.6</td>\n",
              "      <td>0.0</td>\n",
              "    </tr>\n",
              "    <tr>\n",
              "      <th>1331</th>\n",
              "      <td>9143031_05_right_cropped.raw</td>\n",
              "      <td>9143031</td>\n",
              "      <td>36</td>\n",
              "      <td>right</td>\n",
              "      <td>1.0</td>\n",
              "      <td>1.0</td>\n",
              "      <td>53.0</td>\n",
              "      <td>25.6</td>\n",
              "      <td>0.0</td>\n",
              "    </tr>\n",
              "    <tr>\n",
              "      <th>1348</th>\n",
              "      <td>9407052_05_right_cropped.raw</td>\n",
              "      <td>9407052</td>\n",
              "      <td>36</td>\n",
              "      <td>right</td>\n",
              "      <td>1.0</td>\n",
              "      <td>2.0</td>\n",
              "      <td>80.0</td>\n",
              "      <td>27.9</td>\n",
              "      <td>3.0</td>\n",
              "    </tr>\n",
              "    <tr>\n",
              "      <th>708</th>\n",
              "      <td>9608737_01_right_cropped.raw</td>\n",
              "      <td>9608737</td>\n",
              "      <td>12</td>\n",
              "      <td>right</td>\n",
              "      <td>1.0</td>\n",
              "      <td>2.0</td>\n",
              "      <td>55.0</td>\n",
              "      <td>21.0</td>\n",
              "      <td>0.0</td>\n",
              "    </tr>\n",
              "    <tr>\n",
              "      <th>1758</th>\n",
              "      <td>9608137_08_left_cropped.raw</td>\n",
              "      <td>9608137</td>\n",
              "      <td>72</td>\n",
              "      <td>left</td>\n",
              "      <td>1.0</td>\n",
              "      <td>2.0</td>\n",
              "      <td>69.0</td>\n",
              "      <td>36.5</td>\n",
              "      <td>0.0</td>\n",
              "    </tr>\n",
              "    <tr>\n",
              "      <th>18</th>\n",
              "      <td>9281025_00_left_cropped.raw</td>\n",
              "      <td>9281025</td>\n",
              "      <td>0</td>\n",
              "      <td>left</td>\n",
              "      <td>1.0</td>\n",
              "      <td>2.0</td>\n",
              "      <td>57.0</td>\n",
              "      <td>20.1</td>\n",
              "      <td>1.0</td>\n",
              "    </tr>\n",
              "    <tr>\n",
              "      <th>1271</th>\n",
              "      <td>9531050_05_right_cropped.raw</td>\n",
              "      <td>9531050</td>\n",
              "      <td>36</td>\n",
              "      <td>right</td>\n",
              "      <td>1.0</td>\n",
              "      <td>2.0</td>\n",
              "      <td>59.0</td>\n",
              "      <td>20.8</td>\n",
              "      <td>0.0</td>\n",
              "    </tr>\n",
              "    <tr>\n",
              "      <th>906</th>\n",
              "      <td>9942319_03_left_cropped.raw</td>\n",
              "      <td>9942319</td>\n",
              "      <td>24</td>\n",
              "      <td>left</td>\n",
              "      <td>1.0</td>\n",
              "      <td>2.0</td>\n",
              "      <td>63.0</td>\n",
              "      <td>29.1</td>\n",
              "      <td>3.0</td>\n",
              "    </tr>\n",
              "    <tr>\n",
              "      <th>249</th>\n",
              "      <td>9693806_00_right_cropped.raw</td>\n",
              "      <td>9693806</td>\n",
              "      <td>0</td>\n",
              "      <td>right</td>\n",
              "      <td>1.0</td>\n",
              "      <td>1.0</td>\n",
              "      <td>71.0</td>\n",
              "      <td>32.3</td>\n",
              "      <td>4.0</td>\n",
              "    </tr>\n",
              "    <tr>\n",
              "      <th>191</th>\n",
              "      <td>9165970_00_right_cropped.raw</td>\n",
              "      <td>9165970</td>\n",
              "      <td>0</td>\n",
              "      <td>right</td>\n",
              "      <td>1.0</td>\n",
              "      <td>1.0</td>\n",
              "      <td>65.0</td>\n",
              "      <td>24.5</td>\n",
              "      <td>1.0</td>\n",
              "    </tr>\n",
              "    <tr>\n",
              "      <th>880</th>\n",
              "      <td>9615146_03_left_cropped.raw</td>\n",
              "      <td>9615146</td>\n",
              "      <td>24</td>\n",
              "      <td>left</td>\n",
              "      <td>2.0</td>\n",
              "      <td>2.0</td>\n",
              "      <td>60.0</td>\n",
              "      <td>41.0</td>\n",
              "      <td>2.0</td>\n",
              "    </tr>\n",
              "  </tbody>\n",
              "</table>\n",
              "</div>"
            ],
            "text/plain": [
              "                          raw_file       ID  months  ...   age   BMI   KL\n",
              "405    9368286_01_left_cropped.raw  9368286      12  ...  75.0  28.1  0.0\n",
              "1193   9438237_05_left_cropped.raw  9438237      36  ...  74.0  28.5  3.0\n",
              "674   9218935_01_right_cropped.raw  9218935      12  ...  67.0  22.9  4.0\n",
              "1366  9608737_05_right_cropped.raw  9608737      36  ...  57.0  20.9  0.0\n",
              "810    9794140_03_left_cropped.raw  9794140      24  ...  48.0  23.6  0.0\n",
              "1331  9143031_05_right_cropped.raw  9143031      36  ...  53.0  25.6  0.0\n",
              "1348  9407052_05_right_cropped.raw  9407052      36  ...  80.0  27.9  3.0\n",
              "708   9608737_01_right_cropped.raw  9608737      12  ...  55.0  21.0  0.0\n",
              "1758   9608137_08_left_cropped.raw  9608137      72  ...  69.0  36.5  0.0\n",
              "18     9281025_00_left_cropped.raw  9281025       0  ...  57.0  20.1  1.0\n",
              "1271  9531050_05_right_cropped.raw  9531050      36  ...  59.0  20.8  0.0\n",
              "906    9942319_03_left_cropped.raw  9942319      24  ...  63.0  29.1  3.0\n",
              "249   9693806_00_right_cropped.raw  9693806       0  ...  71.0  32.3  4.0\n",
              "191   9165970_00_right_cropped.raw  9165970       0  ...  65.0  24.5  1.0\n",
              "880    9615146_03_left_cropped.raw  9615146      24  ...  60.0  41.0  2.0\n",
              "\n",
              "[15 rows x 9 columns]"
            ]
          },
          "metadata": {
            "tags": []
          },
          "execution_count": 13
        }
      ]
    },
    {
      "cell_type": "code",
      "metadata": {
        "id": "cGzBqkvc6C_x",
        "colab": {
          "base_uri": "https://localhost:8080/",
          "height": 282
        },
        "outputId": "2359d756-f5ad-4f21-c71d-d055460a67b2"
      },
      "source": [
        "sample_im = load_im('/content/trainval/'+trainval_df.raw_file[100])\n",
        "print('shape of a single image', sample_im.shape)\n",
        "plt.imshow(sample_im, cmap='gray')\n",
        "plt.axis('off')\n",
        "plt.show()\n",
        "print(sample_im.min(), sample_im.max(), sample_im.mean())"
      ],
      "execution_count": 14,
      "outputs": [
        {
          "output_type": "stream",
          "text": [
            "shape of a single image (500, 500)\n"
          ],
          "name": "stdout"
        },
        {
          "output_type": "display_data",
          "data": {
            "image/png": "[encoded data removed]",
            "text/plain": [
              "<Figure size 432x288 with 1 Axes>"
            ]
          },
          "metadata": {
            "tags": [],
            "needs_background": "light"
          }
        },
        {
          "output_type": "stream",
          "text": [
            "0.00015970037 1.0 0.7091682\n"
          ],
          "name": "stdout"
        }
      ]
    },
    {
      "cell_type": "code",
      "metadata": {
        "id": "PBde7eaPvMQw",
        "colab": {
          "base_uri": "https://localhost:8080/",
          "height": 298
        },
        "outputId": "743ff85b-3a97-4574-a666-b9998d9bf0da"
      },
      "source": [
        "plt.figure()\n",
        "plt.hist(trainval_df['KL'])\n",
        "plt.title('KL Label Distribution')\n",
        "\n",
        "print(set(trainval_df['KL'].dropna()))"
      ],
      "execution_count": 15,
      "outputs": [
        {
          "output_type": "stream",
          "text": [
            "{0.0, 1.0, 2.0, 3.0, 4.0}\n"
          ],
          "name": "stdout"
        },
        {
          "output_type": "display_data",
          "data": {
            "image/png": "[encoded data removed]",
            "text/plain": [
              "<Figure size 432x288 with 1 Axes>"
            ]
          },
          "metadata": {
            "tags": [],
            "needs_background": "light"
          }
        }
      ]
    },
    {
      "cell_type": "markdown",
      "metadata": {
        "id": "nx4pvdMW3zXn"
      },
      "source": [
        "### 2. Framing the learning problem\n",
        "Create training and validation data splits (in the form of a `train_list` and a `validation_list`), choose type of deep-learning problem and an appropriate loss function. Use the lecture slides, Homework #3, and the convolutional_example.ipynb covered in class.\n",
        "\n",
        "<br>**Splitting**\n",
        ">Training and validation data is pooled so you'll need to define your own splitting heuristics. \n",
        "<br> Given that the dataset is large, would a random split be appropriate?\n",
        "<br> Are there factors you need to account for when splitting the data? (Hint: compare total number of images against number of unique patients)\n",
        "<br> Would you consider using a cross-validation scheme? How would you use this at test time?\n",
        "\n",
        "<br>**Classification, Regression, or something else?**\n",
        ">What type of learning problem can this be framed as? \n",
        "<br>What are the advantages/disadvantages of treating diagnosis as a classification problem? \n",
        "<br>What about a regression problem?\n",
        "<br> What will the last network layer look like for each problem? What activation and loss functions?\n",
        "<br> Reminder! Test data should not be touched until all experiments' training and validation are complete.\n",
        "\n",
        "<br>**Auxilliary data**\n",
        ">Is it possible that demographic data would improve the peformance of the network? How would you include this information? <br>Note: You are not expected to use the demographic data during training. \n",
        "\n",
        "(!!) These are notes and guiding questions (you do not need to provide answers)"
      ]
    },
    {
      "cell_type": "code",
      "metadata": {
        "id": "VE0XXVmfCZvi",
        "colab": {
          "base_uri": "https://localhost:8080/"
        },
        "outputId": "387468a9-e3b0-4297-f7b2-874bef6d63f6"
      },
      "source": [
        "subjects = list(set(trainval_df['ID']))\n",
        "n = len(subjects)\n",
        "n_split = int(n * 0.8)\n",
        "train_subjects = subjects[:n_split]\n",
        "val_subjects = subjects[n_split:]\n",
        "\n",
        "print(len(train_subjects), len(val_subjects))\n",
        "train_df = []\n",
        "val_df = []\n",
        "for idx, row in trainval_df.iterrows():\n",
        "  if row['ID'] in train_subjects:\n",
        "    train_df.append(row)\n",
        "  elif row['ID'] in val_subjects:\n",
        "    val_df.append(row)\n",
        "\n",
        "train_df = pd.DataFrame(train_df, columns=test_df.columns)\n",
        "val_df = pd.DataFrame(val_df, columns=test_df.columns)"
      ],
      "execution_count": 16,
      "outputs": [
        {
          "output_type": "stream",
          "text": [
            "452 113\n"
          ],
          "name": "stdout"
        }
      ]
    },
    {
      "cell_type": "markdown",
      "metadata": {
        "id": "yUQhvfAyuVaL"
      },
      "source": [
        "There's ~10 images per subject in each split\n"
      ]
    },
    {
      "cell_type": "markdown",
      "metadata": {
        "id": "X5kGyjWi3ztX"
      },
      "source": [
        "### 3. Network setup and training\n",
        "\n",
        "Build your dataloader, set up network architectures and choose callbacks (early stopping, saving, tensorboard, etc). You are expected to train at minimum two different architectures, but you're encouraged to try more.\n",
        "\n",
        "**Network inputs**\n",
        "> You can design custom architectures to accept any input size while off-the-shelf architectures (like MobileNetV2) may not support an arbitrary input size. \n",
        "<br> Have you made sure your input is sized correctly (height/width/channels) to be compatible with the architecture you chose?\n",
        "<br> If you change your images to fit the input requirements for an off-the-shelf network, are the important imaging features still visible?\n",
        "<br> How big are the imaging features in the knee dataset compared to the size of the convolutional kernels you are learning? \n",
        "\n",
        "**Model saving**\n",
        "> Are you saving your outputs at regular intervals? (your last epoch may not be your best epoch) If epoch 30 gave you the best validation performance, but you trained until epoch 100, you need to have saved model weights early on.\n",
        "\n",
        "**Bells and whistles**\n",
        "> Start simple, overfit to your training data, then build in complexity. <br> Don't forget about the loss functions, optimizers, augmentations, and regularization strategies discussed in lecture.\n",
        "\n",
        "(!!) These are notes and guiding questions (you do not need to provide answers)"
      ]
    },
    {
      "cell_type": "code",
      "metadata": {
        "id": "rOhradIvwnhp"
      },
      "source": [
        "# EXAMPLE\n",
        "# we've built the test dataloader for you as an example, use a similar structure \n",
        "# to build your training and validation dataloaders\n",
        "\n",
        "test_list = ('/content/test/'+test_df[~pd.isnull(test_df.KL)].raw_file).tolist()\n",
        "train_list = ('/content/trainval/'+train_df[~pd.isnull(train_df.KL)].raw_file).tolist()\n",
        "val_list = ('/content/trainval/'+val_df[~pd.isnull(val_df.KL)].raw_file).tolist()\n",
        "\n",
        "def test_generator():\n",
        "    for testfile in test_list:\n",
        "        img = np.expand_dims(load_im(testfile),axis=2)\n",
        "        raw_file = testfile.split('/')[-1]\n",
        "        label = np.array(test_df[test_df.raw_file==raw_file].KL.iloc[0], ndmin=1, dtype=np.int16)\n",
        "        img = tf.convert_to_tensor(img, dtype=tf.float32, name='img')\n",
        "        label = tf.convert_to_tensor(label, dtype=tf.int32, name='label')\n",
        "        label = tf.squeeze(tf.one_hot(label, 4, on_value=1.0, off_value=0.0))\n",
        "        yield img, label\n",
        "\n",
        "def train_generator():\n",
        "    for testfile in train_list:\n",
        "        img = np.expand_dims(load_im(testfile),axis=2)\n",
        "        raw_file = testfile.split('/')[-1]\n",
        "        label = np.array(train_df[train_df.raw_file==raw_file].KL.iloc[0], ndmin=1, dtype=np.int16)\n",
        "        img = tf.convert_to_tensor(img, dtype=tf.float32, name='img')\n",
        "        label = tf.convert_to_tensor(label, dtype=tf.int32, name='label')\n",
        "        label = tf.squeeze(tf.one_hot(label, 4, on_value=1.0, off_value=0.0))\n",
        "        yield img, label\n",
        "\n",
        "def val_generator():\n",
        "    for testfile in val_list:\n",
        "        img = np.expand_dims(load_im(testfile),axis=2)\n",
        "        raw_file = testfile.split('/')[-1]\n",
        "        label = np.array(val_df[val_df.raw_file==raw_file].KL.iloc[0], ndmin=1, dtype=np.int16)\n",
        "        img = tf.convert_to_tensor(img, dtype=tf.float32, name='img')\n",
        "        label = tf.convert_to_tensor(label, dtype=tf.int32, name='label')\n",
        "        label = tf.squeeze(tf.one_hot(label, 4, on_value=1.0, off_value=0.0))\n",
        "        yield img, label\n",
        "\n",
        "def set_shapes(img, label, im_shape=(500,500,1)):\n",
        "    img.set_shape(im_shape)\n",
        "    label.set_shape(4)\n",
        "    return img, label\n",
        "\n",
        "# example augmentation function\n",
        "def augment(img,label):\n",
        "    img= tf.image.flip_left_right(img) \n",
        "    return img, label\n",
        "\n",
        "ds_test = tf.data.Dataset.from_generator(test_generator, (tf.float32, tf.int16))\n",
        "ds_test = ds_test.cache()\n",
        "ds_test = ds_test.map(lambda img, label: set_shapes(img, label), num_parallel_calls=tf.data.experimental.AUTOTUNE)\n",
        "ds_test = ds_test.batch(batch_size=18)\n",
        "ds_test = ds_test.prefetch(tf.data.experimental.AUTOTUNE)\n",
        "\n",
        "# in training, shuffling would go after the .cache() line:\n",
        "# ds_train = ds_train.shuffle(buffer_size=len(train_list))\n",
        "ds_train = tf.data.Dataset.from_generator(train_generator, (tf.float32, tf.int16))\n",
        "ds_train = ds_train.cache()\n",
        "ds_train = ds_train.shuffle(buffer_size=len(train_list))\n",
        "ds_train = ds_train.map(lambda img, label: set_shapes(img, label), num_parallel_calls=tf.data.experimental.AUTOTUNE)\n",
        "ds_train = ds_train.batch(batch_size=18)\n",
        "ds_train = ds_train.prefetch(tf.data.experimental.AUTOTUNE)\n",
        "\n",
        "ds_val = tf.data.Dataset.from_generator(val_generator, (tf.float32, tf.int16))\n",
        "ds_val = ds_val.cache()\n",
        "ds_val = ds_val.map(lambda img, label: set_shapes(img, label), num_parallel_calls=tf.data.experimental.AUTOTUNE)\n",
        "ds_val = ds_val.batch(batch_size=18)\n",
        "ds_val = ds_val.prefetch(tf.data.experimental.AUTOTUNE)\n",
        "\n",
        "# preprocessing and/or augmentations (if training dataset) would go either after \n",
        "# the in the generator itself OR after the .map set_shapes line like so:\n",
        "# ds_train = ds_train.map(augment, num_parallel_calls=tf.data.experimental.AUTOTUNE)"
      ],
      "execution_count": 17,
      "outputs": []
    },
    {
      "cell_type": "code",
      "metadata": {
        "id": "ApJhA9aRCOjs",
        "colab": {
          "base_uri": "https://localhost:8080/",
          "height": 1000
        },
        "outputId": "dfffcc9e-32d0-4af1-c3a9-6fc54be5a578"
      },
      "source": [
        "model_pool = tf.keras.models.Sequential([\n",
        "  tf.keras.layers.Conv2D(16, 3, padding='same', activation='relu'),\n",
        "  tf.keras.layers.MaxPooling2D(),\n",
        "  tf.keras.layers.Conv2D(16, 3, padding='same', activation='relu'),\n",
        "  tf.keras.layers.MaxPooling2D(),\n",
        "  tf.keras.layers.Conv2D(16, 3, padding='same', activation='relu'),\n",
        "  tf.keras.layers.MaxPooling2D(),\n",
        "  tf.keras.layers.Conv2D(16, 3, padding='same', activation='relu'),\n",
        "  tf.keras.layers.Flatten(),\n",
        "  tf.keras.layers.Dense(512, activation='relu'),\n",
        "  tf.keras.layers.Dense(4)\n",
        "])\n",
        "\n",
        "loss_fn = tf.keras.losses.CategoricalCrossentropy(from_logits=True)\n",
        "model_pool.compile(optimizer=tf.keras.optimizers.SGD(learning_rate=0.0001),\n",
        "              loss=loss_fn,\n",
        "              metrics=['accuracy'])\n",
        "\n",
        "callback = tf.keras.callbacks.EarlyStopping(monitor='val_loss', patience=5)\n",
        "history = model_pool.fit(ds_train, validation_data=ds_val, epochs=100, callbacks=[callback])\n",
        "\n",
        "fig, ax = plt.subplots(2, 1)\n",
        "ax[0].plot(history.history['loss'], label='Training Loss')\n",
        "ax[1].plot(history.history['val_loss'], label='Validation Loss')"
      ],
      "execution_count": 24,
      "outputs": [
        {
          "output_type": "stream",
          "text": [
            "Epoch 1/100\n",
            "258/258 [==============================] - 18s 66ms/step - loss: 1.3029 - accuracy: 0.4296 - val_loss: 1.2757 - val_accuracy: 0.4843\n",
            "Epoch 2/100\n",
            "258/258 [==============================] - 17s 66ms/step - loss: 1.2764 - accuracy: 0.4298 - val_loss: 1.2440 - val_accuracy: 0.4843\n",
            "Epoch 3/100\n",
            "258/258 [==============================] - 17s 66ms/step - loss: 1.2677 - accuracy: 0.4298 - val_loss: 1.2334 - val_accuracy: 0.4843\n",
            "Epoch 4/100\n",
            "258/258 [==============================] - 17s 66ms/step - loss: 1.2654 - accuracy: 0.4298 - val_loss: 1.2286 - val_accuracy: 0.4843\n",
            "Epoch 5/100\n",
            "258/258 [==============================] - 17s 66ms/step - loss: 1.2645 - accuracy: 0.4298 - val_loss: 1.2294 - val_accuracy: 0.4843\n",
            "Epoch 6/100\n",
            "258/258 [==============================] - 17s 66ms/step - loss: 1.2640 - accuracy: 0.4298 - val_loss: 1.2272 - val_accuracy: 0.4843\n",
            "Epoch 7/100\n",
            "258/258 [==============================] - 17s 66ms/step - loss: 1.2635 - accuracy: 0.4298 - val_loss: 1.2263 - val_accuracy: 0.4843\n",
            "Epoch 8/100\n",
            "258/258 [==============================] - 17s 66ms/step - loss: 1.2629 - accuracy: 0.4298 - val_loss: 1.2260 - val_accuracy: 0.4843\n",
            "Epoch 9/100\n",
            "258/258 [==============================] - 17s 66ms/step - loss: 1.2624 - accuracy: 0.4298 - val_loss: 1.2252 - val_accuracy: 0.4843\n",
            "Epoch 10/100\n",
            "258/258 [==============================] - 17s 66ms/step - loss: 1.2619 - accuracy: 0.4298 - val_loss: 1.2259 - val_accuracy: 0.4843\n",
            "Epoch 11/100\n",
            "258/258 [==============================] - 17s 66ms/step - loss: 1.2613 - accuracy: 0.4298 - val_loss: 1.2229 - val_accuracy: 0.4843\n",
            "Epoch 12/100\n",
            "258/258 [==============================] - 17s 66ms/step - loss: 1.2607 - accuracy: 0.4298 - val_loss: 1.2229 - val_accuracy: 0.4843\n",
            "Epoch 13/100\n",
            "258/258 [==============================] - 17s 66ms/step - loss: 1.2600 - accuracy: 0.4298 - val_loss: 1.2247 - val_accuracy: 0.4843\n",
            "Epoch 14/100\n",
            "258/258 [==============================] - 17s 66ms/step - loss: 1.2597 - accuracy: 0.4298 - val_loss: 1.2214 - val_accuracy: 0.4843\n",
            "Epoch 15/100\n",
            "258/258 [==============================] - 17s 66ms/step - loss: 1.2584 - accuracy: 0.4298 - val_loss: 1.2221 - val_accuracy: 0.4843\n",
            "Epoch 16/100\n",
            "258/258 [==============================] - 17s 66ms/step - loss: 1.2574 - accuracy: 0.4296 - val_loss: 1.2246 - val_accuracy: 0.4843\n",
            "Epoch 17/100\n",
            "258/258 [==============================] - 17s 66ms/step - loss: 1.2564 - accuracy: 0.4302 - val_loss: 1.2182 - val_accuracy: 0.4843\n",
            "Epoch 18/100\n",
            "258/258 [==============================] - 17s 66ms/step - loss: 1.2557 - accuracy: 0.4302 - val_loss: 1.2169 - val_accuracy: 0.4843\n",
            "Epoch 19/100\n",
            "258/258 [==============================] - 17s 66ms/step - loss: 1.2541 - accuracy: 0.4287 - val_loss: 1.2176 - val_accuracy: 0.4843\n",
            "Epoch 20/100\n",
            "258/258 [==============================] - 17s 66ms/step - loss: 1.2534 - accuracy: 0.4311 - val_loss: 1.2193 - val_accuracy: 0.4851\n",
            "Epoch 21/100\n",
            "258/258 [==============================] - 17s 65ms/step - loss: 1.2517 - accuracy: 0.4304 - val_loss: 1.2089 - val_accuracy: 0.4843\n",
            "Epoch 22/100\n",
            "258/258 [==============================] - 17s 66ms/step - loss: 1.2510 - accuracy: 0.4283 - val_loss: 1.2339 - val_accuracy: 0.4503\n",
            "Epoch 23/100\n",
            "258/258 [==============================] - 17s 66ms/step - loss: 1.2479 - accuracy: 0.4246 - val_loss: 1.2161 - val_accuracy: 0.4445\n",
            "Epoch 24/100\n",
            "258/258 [==============================] - 17s 66ms/step - loss: 1.2596 - accuracy: 0.4115 - val_loss: 1.2739 - val_accuracy: 0.4776\n",
            "Epoch 25/100\n",
            "258/258 [==============================] - 17s 65ms/step - loss: 1.4115 - accuracy: 0.3591 - val_loss: 1.4056 - val_accuracy: 0.4826\n",
            "Epoch 26/100\n",
            "258/258 [==============================] - 17s 66ms/step - loss: 3.5728 - accuracy: 0.3203 - val_loss: 3.7047 - val_accuracy: 0.4843\n"
          ],
          "name": "stdout"
        },
        {
          "output_type": "execute_result",
          "data": {
            "text/plain": [
              "[<matplotlib.lines.Line2D at 0x7f2f1416ae90>]"
            ]
          },
          "metadata": {
            "tags": []
          },
          "execution_count": 24
        },
        {
          "output_type": "display_data",
          "data": {
            "image/png": "[encoded data removed]",
            "text/plain": [
              "<Figure size 432x288 with 2 Axes>"
            ]
          },
          "metadata": {
            "tags": [],
            "needs_background": "light"
          }
        }
      ]
    },
    {
      "cell_type": "code",
      "metadata": {
        "colab": {
          "base_uri": "https://localhost:8080/",
          "height": 653
        },
        "id": "dFb7mmTBzdr6",
        "outputId": "51269a8b-7813-4afd-ef86-be7a59829247"
      },
      "source": [
        "model_stride = tf.keras.models.Sequential([\n",
        "  tf.keras.layers.Conv2D(16, 3, padding='same', strides=(2,2), activation='relu'),\n",
        "  tf.keras.layers.Conv2D(16, 3, padding='same', strides=(2,2), activation='relu'),\n",
        "  tf.keras.layers.Conv2D(16, 3, padding='same', strides=(2,2), activation='relu'),\n",
        "  tf.keras.layers.Conv2D(16, 3, padding='same', strides=(2,2),  activation='relu'),\n",
        "  tf.keras.layers.Flatten(),\n",
        "  tf.keras.layers.Dense(512, activation='relu'),\n",
        "  tf.keras.layers.Dense(4)\n",
        "])\n",
        "\n",
        "loss_fn = tf.keras.losses.CategoricalCrossentropy(from_logits=True)\n",
        "model_stride.compile(optimizer=tf.keras.optimizers.SGD(learning_rate=0.0001),\n",
        "              loss=loss_fn,\n",
        "              metrics=['accuracy'])\n",
        "\n",
        "callback = tf.keras.callbacks.EarlyStopping(monitor='val_loss', patience=5)\n",
        "history2 = model_stride.fit(ds_train, validation_data=ds_val, epochs=100, callbacks=[callback])\n",
        "\n",
        "fig, ax = plt.subplots(2, 1)\n",
        "ax[0].plot(history2.history['loss'], label='Training Loss')\n",
        "ax[1].plot(history2.history['val_loss'], label='Validation Loss')"
      ],
      "execution_count": 19,
      "outputs": [
        {
          "output_type": "stream",
          "text": [
            "Epoch 1/10\n",
            "258/258 [==============================] - 10s 39ms/step - loss: 4669.2642 - accuracy: 0.3143 - val_loss: 91340.1953 - val_accuracy: 0.2351\n",
            "Epoch 2/10\n",
            "258/258 [==============================] - 10s 38ms/step - loss: 26770230.0000 - accuracy: 0.2841 - val_loss: 186941200.0000 - val_accuracy: 0.1109\n",
            "Epoch 3/10\n",
            "258/258 [==============================] - 10s 38ms/step - loss: 4117097984.0000 - accuracy: 0.2923 - val_loss: 28684838912.0000 - val_accuracy: 0.1697\n",
            "Epoch 4/10\n",
            "258/258 [==============================] - 10s 38ms/step - loss: 87589527552.0000 - accuracy: 0.2865 - val_loss: 109018791936.0000 - val_accuracy: 0.1697\n",
            "Epoch 5/10\n",
            "258/258 [==============================] - 10s 38ms/step - loss: 648589017088.0000 - accuracy: 0.2839 - val_loss: 1187065626624.0000 - val_accuracy: 0.1697\n",
            "Epoch 6/10\n",
            "258/258 [==============================] - 10s 38ms/step - loss: 3075779854336.0000 - accuracy: 0.2805 - val_loss: 8670925029376.0000 - val_accuracy: 0.4843\n",
            "Epoch 7/10\n",
            "258/258 [==============================] - 10s 38ms/step - loss: 7733347614720.0000 - accuracy: 0.2818 - val_loss: 9753864437760.0000 - val_accuracy: 0.4843\n",
            "Epoch 8/10\n",
            "258/258 [==============================] - 10s 38ms/step - loss: 18813250699264.0000 - accuracy: 0.2859 - val_loss: 14389777268736.0000 - val_accuracy: 0.4843\n",
            "Epoch 9/10\n",
            "258/258 [==============================] - 10s 38ms/step - loss: 50175829606400.0000 - accuracy: 0.3016 - val_loss: 66271018221568.0000 - val_accuracy: 0.2351\n",
            "Epoch 10/10\n",
            "258/258 [==============================] - 10s 38ms/step - loss: 97810473025536.0000 - accuracy: 0.2891 - val_loss: 265718704635904.0000 - val_accuracy: 0.4843\n"
          ],
          "name": "stdout"
        },
        {
          "output_type": "execute_result",
          "data": {
            "text/plain": [
              "[<matplotlib.lines.Line2D at 0x7f2ec0124350>]"
            ]
          },
          "metadata": {
            "tags": []
          },
          "execution_count": 19
        },
        {
          "output_type": "display_data",
          "data": {
            "image/png": "[encoded data removed]",
            "text/plain": [
              "<Figure size 432x288 with 2 Axes>"
            ]
          },
          "metadata": {
            "tags": [],
            "needs_background": "light"
          }
        }
      ]
    },
    {
      "cell_type": "markdown",
      "metadata": {
        "id": "eqSxfrCJ6Mo2"
      },
      "source": [
        "### 4. Evaluation of results\n",
        "Once you are happy with model performance on training/validation, evaluate each model on the test set using the test dataloader, modified with any custom preprocessing you might have implemented. \n",
        "\n",
        "**Print out the confusion matrix for each model** (you can use sklearn this time). If you posed the learning problem as a regression, go ahead and round the regression predictions to create class predictions. **Calculate the weighted kappa coefficient for each model** (also available in sklearn)."
      ]
    },
    {
      "cell_type": "code",
      "metadata": {
        "id": "dPYnHsCQ6SIc"
      },
      "source": [
        "pred_pool = model_pool.predict(ds_test)\n",
        "pred_pool = tf.nn.softmax(pred_pool)\n",
        "pred_stride = model_pool.predict(ds_test)\n",
        "pred_stride = tf.nn.softmax(pred_stride)\n",
        "\n",
        "pred_pool = tf.argmax(pred_pool, axis=-1).numpy()\n",
        "pred_stride = tf.argmax(pred_stride, axis=-1).numpy()\n"
      ],
      "execution_count": 38,
      "outputs": []
    },
    {
      "cell_type": "code",
      "metadata": {
        "colab": {
          "base_uri": "https://localhost:8080/",
          "height": 298
        },
        "id": "Jeb3JZ3KzFrJ",
        "outputId": "d3e9ec5c-bfa0-4900-b54f-eebfc84451e9"
      },
      "source": [
        "plt.hist(pred_pool)\n",
        "plt.title(\"Distribution of pooling model predictions\")"
      ],
      "execution_count": 41,
      "outputs": [
        {
          "output_type": "execute_result",
          "data": {
            "text/plain": [
              "Text(0.5, 1.0, 'Distribution of pooling model predictions')"
            ]
          },
          "metadata": {
            "tags": []
          },
          "execution_count": 41
        },
        {
          "output_type": "display_data",
          "data": {
            "image/png": "[encoded data removed]",
            "text/plain": [
              "<Figure size 432x288 with 1 Axes>"
            ]
          },
          "metadata": {
            "tags": [],
            "needs_background": "light"
          }
        }
      ]
    },
    {
      "cell_type": "code",
      "metadata": {
        "colab": {
          "base_uri": "https://localhost:8080/",
          "height": 298
        },
        "id": "I5Hjyq071iON",
        "outputId": "c8f7a9ce-2d3e-44d1-cbc1-a1fe0727eaf5"
      },
      "source": [
        "plt.hist(pred_stride)\n",
        "plt.title(\"Distribution of striding model predictions\")"
      ],
      "execution_count": 43,
      "outputs": [
        {
          "output_type": "execute_result",
          "data": {
            "text/plain": [
              "Text(0.5, 1.0, 'Distribution of striding model predictions')"
            ]
          },
          "metadata": {
            "tags": []
          },
          "execution_count": 43
        },
        {
          "output_type": "display_data",
          "data": {
            "image/png": "[encoded data removed]",
            "text/plain": [
              "<Figure size 432x288 with 1 Axes>"
            ]
          },
          "metadata": {
            "tags": [],
            "needs_background": "light"
          }
        }
      ]
    },
    {
      "cell_type": "code",
      "metadata": {
        "colab": {
          "base_uri": "https://localhost:8080/"
        },
        "id": "6sVpCRA11o_f",
        "outputId": "7d81d85c-dc96-4699-fc3d-6ad6ad883161"
      },
      "source": [
        "from sklearn import metrics\n",
        "y_true = np.concatenate([y for x, y in ds_test], axis=0)\n",
        "y_true = np.argmax(y_true, axis=-1)\n",
        "cm_pool = metrics.confusion_matrix(y_true, pred_pool)\n",
        "cm_stride = metrics.confusion_matrix(y_true, pred_stride)\n",
        "\n",
        "print(\"Pooling model confusion matrix:\")\n",
        "print(cm_pool)\n",
        "print(\"Striding model confusion matrix:\")\n",
        "print(cm_stride)\n",
        "print(metrics.accuracy_score(y_true, pred_pool))\n",
        "print(metrics.accuracy_score(y_true, pred_stride))"
      ],
      "execution_count": 56,
      "outputs": [
        {
          "output_type": "stream",
          "text": [
            "Pooling model confusion matrix:\n",
            "[[880   0   0   0]\n",
            " [390   0   0   0]\n",
            " [513   0   0   0]\n",
            " [216   0   0   0]]\n",
            "Striding model confusion matrix:\n",
            "[[880   0   0   0]\n",
            " [390   0   0   0]\n",
            " [513   0   0   0]\n",
            " [216   0   0   0]]\n",
            "0.44022011005502754\n",
            "0.44022011005502754\n"
          ],
          "name": "stdout"
        }
      ]
    },
    {
      "cell_type": "code",
      "metadata": {
        "colab": {
          "base_uri": "https://localhost:8080/"
        },
        "id": "bUgOpEkF2uqh",
        "outputId": "26190fe0-1518-471f-bfab-13dc5df85312"
      },
      "source": [
        "weighted_kappa_pool = metrics.cohen_kappa_score(y_true, pred_pool)\n",
        "weighted_kappa_stride = metrics.cohen_kappa_score(y_true, pred_stride)\n",
        "print(\"pooling model kappa:\", weighted_kappa_pool)\n",
        "print(\"striding model kappa:\", weighted_kappa_stride)"
      ],
      "execution_count": 54,
      "outputs": [
        {
          "output_type": "stream",
          "text": [
            "pooling model kappa: 0.0\n",
            "striding model kappa: 0.0\n"
          ],
          "name": "stdout"
        }
      ]
    },
    {
      "cell_type": "markdown",
      "metadata": {
        "id": "v5kAGNtCBBVu"
      },
      "source": [
        "Finally, answer these questions:\n",
        ">1. Did your models perform similarly on the training, validation sets as they did on the final test set? If there were discrepancies, why do you think that is?\n",
        "\n",
        "The model never learned to predict anything other than the first class, which is surprising given the simplicity of the model. The training loss diverges after 25 epochs \n",
        "\n",
        ">2. What strategies did you find most effective for improving the accuracy of diagnosis? Why?\n",
        "Changing the optimizer from Adam to SGD was key to get the model to even train. The Adam optimizer for this model had exploding loss function even for very low learning rates while SGD was actually able to converge.\n",
        "\n",
        ">3. Given unrestricted time and computational resources, list 4 suggestions you have for improving your models.\n",
        "\n",
        "My models are very basic CNNs, mostly to get familiar with TensorFlow/Keras model training. If I had unlimited time I would try state of the art ImageNet models such as EfficientNet for transfer learning and fine tuning. It would be interesting to see if EfficientNet works as a feature extractor even though it was built for RGB data. I would also attempt to incorporate the demographic layer at the fully connected layer to see if it improves model performance. "
      ]
    },
    {
      "cell_type": "code",
      "metadata": {
        "id": "epkPCb1jBL96"
      },
      "source": [
        ""
      ],
      "execution_count": null,
      "outputs": []
    }
  ]
}